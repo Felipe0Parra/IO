{
  "nbformat": 4,
  "nbformat_minor": 0,
  "metadata": {
    "colab": {
      "provenance": [],
      "authorship_tag": "ABX9TyPmMosQy11UNEEN8BKGBc6q",
      "include_colab_link": true
    },
    "kernelspec": {
      "name": "python3",
      "display_name": "Python 3"
    },
    "language_info": {
      "name": "python"
    }
  },
  "cells": [
    {
      "cell_type": "markdown",
      "metadata": {
        "id": "view-in-github",
        "colab_type": "text"
      },
      "source": [
        "<a href=\"https://colab.research.google.com/github/Felipe0Parra/IO/blob/main/Traductor_Binario.ipynb\" target=\"_parent\"><img src=\"https://colab.research.google.com/assets/colab-badge.svg\" alt=\"Open In Colab\"/></a>"
      ]
    },
    {
      "cell_type": "markdown",
      "source": [
        "# Traductor binario"
      ],
      "metadata": {
        "id": "yIlUWzuTY9Ai"
      }
    },
    {
      "cell_type": "code",
      "source": [
        "codigo = input(\" Introduzca el codigo (Si no desea introducir codigo oprima enter)\")\n",
        "texto = input(\"Introduzca el texto (Si no desea introducir texto oprima enter)\")\n",
        "BI = [\"01000001\", \"01000010\", \"01000011\", \"01000100\", \"01000101\", \"01000110\", \"01000111\", \"01001000\", \"01001001\", \"01001010\", \"01001011\", \"01001100\", \"01001101\", \"01001110\", \"01001111\", \"01010000\", \"01010001\", \"01010010\", \"01010011\", \"01010100\", \"01010101\", \"01010110\", \"01010111\", \"01011000\", \"01011001\", \"01011010\", \" \"]\n",
        "contador = 0\n",
        "equivalencia = \"\"\n",
        "traduccion = []\n",
        "RT = [\"A\", \"B\", \"C\", \"D\", \"E\", \"F\", \"G\", \"H\", \"I\", \"J\" , \"K\", \"L\", \"M\", \"N\", \"O\", \"P\", \"Q\", \"R\", \"S\", \"T\", \"U\", \"V\", \"W\", \"X\", \"Y\", \"Z\", \" \"]\n",
        "AB = {0:\"A\", 1:\"B\", 2:\"C\", 3:\"D\", 4:\"E\", 5:\"F\", 6:\"G\", 7:\"H\", 8:\"I\", 9:\"J\", 10:\"K\", 11:\"L\", 12:\"M\", 13:\"N\", 14:\"O\", 15:\"P\", 16:\"Q\", 17:\"R\", 18:\"S\", 19:\"T\", 20:\"U\", 21:\"V\", 22:\"W\", 23:\"X\", 24:\"Y\", 25:\"Z\", 26:\" \"}\n",
        "salida = \"\"\n",
        "eqBI = \"\"\n",
        "if len(codigo) != 0:\n",
        "  for i in codigo:\n",
        "    if i != RT[26]:\n",
        "      contador = contador + 1\n",
        "      equivalencia = equivalencia + i\n",
        "    if contador == 8:\n",
        "       traduccion.append(equivalencia)\n",
        "    if contador == 8:\n",
        "       contador = 0\n",
        "       equivalencia = \"\"\n",
        "    if i == RT[26]:\n",
        "      traduccion.append(\" \")\n",
        "  for e in traduccion:\n",
        "    if e in BI:\n",
        "      posicion = BI.index(e)\n",
        "      salida = salida + AB[posicion]\n",
        "print (salida)\n",
        "\n",
        "if len(texto) != 0:\n",
        "  for w in texto:\n",
        "    posicion_binaria = RT.index(w)\n",
        "    eqBI = eqBI + BI[posicion_binaria]\n",
        "print (eqBI)"
      ],
      "metadata": {
        "id": "0NisJ4qHbVij"
      },
      "execution_count": null,
      "outputs": []
    }
  ]
}