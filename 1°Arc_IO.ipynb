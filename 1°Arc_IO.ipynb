{
  "nbformat": 4,
  "nbformat_minor": 0,
  "metadata": {
    "colab": {
      "provenance": [],
      "authorship_tag": "ABX9TyMUrOx3lm64bT/iRBb047uk",
      "include_colab_link": true
    },
    "kernelspec": {
      "name": "python3",
      "display_name": "Python 3"
    },
    "language_info": {
      "name": "python"
    }
  },
  "cells": [
    {
      "cell_type": "markdown",
      "metadata": {
        "id": "view-in-github",
        "colab_type": "text"
      },
      "source": [
        "<a href=\"https://colab.research.google.com/github/Felipe0Parra/IO/blob/main/1%C2%B0Arc_IO.ipynb\" target=\"_parent\"><img src=\"https://colab.research.google.com/assets/colab-badge.svg\" alt=\"Open In Colab\"/></a>"
      ]
    },
    {
      "cell_type": "markdown",
      "source": [
        "Ejecutar siempre el tutor magic antes al abrir el cuaderno"
      ],
      "metadata": {
        "id": "IqjAs_CBMzcr"
      }
    },
    {
      "cell_type": "code",
      "execution_count": 1,
      "metadata": {
        "colab": {
          "base_uri": "https://localhost:8080/"
        },
        "id": "YGDzY96HKkoF",
        "outputId": "bcf53809-868c-4dfe-ae49-1ede390f4dc5"
      },
      "outputs": [
        {
          "output_type": "stream",
          "name": "stdout",
          "text": [
            "Collecting tutormagic\n",
            "  Downloading tutormagic-0.3.1-py3-none-any.whl (6.3 kB)\n",
            "Collecting jupyter>=1.0 (from tutormagic)\n",
            "  Downloading jupyter-1.0.0-py2.py3-none-any.whl (2.7 kB)\n",
            "Requirement already satisfied: notebook in /usr/local/lib/python3.10/dist-packages (from jupyter>=1.0->tutormagic) (6.4.8)\n",
            "Collecting qtconsole (from jupyter>=1.0->tutormagic)\n",
            "  Downloading qtconsole-5.4.3-py3-none-any.whl (121 kB)\n",
            "\u001b[2K     \u001b[90m━━━━━━━━━━━━━━━━━━━━━━━━━━━━━━━━━━━━━━━\u001b[0m \u001b[32m121.9/121.9 kB\u001b[0m \u001b[31m2.2 MB/s\u001b[0m eta \u001b[36m0:00:00\u001b[0m\n",
            "\u001b[?25hRequirement already satisfied: jupyter-console in /usr/local/lib/python3.10/dist-packages (from jupyter>=1.0->tutormagic) (6.1.0)\n",
            "Requirement already satisfied: nbconvert in /usr/local/lib/python3.10/dist-packages (from jupyter>=1.0->tutormagic) (6.5.4)\n",
            "Requirement already satisfied: ipykernel in /usr/local/lib/python3.10/dist-packages (from jupyter>=1.0->tutormagic) (5.5.6)\n",
            "Requirement already satisfied: ipywidgets in /usr/local/lib/python3.10/dist-packages (from jupyter>=1.0->tutormagic) (7.7.1)\n",
            "Requirement already satisfied: ipython-genutils in /usr/local/lib/python3.10/dist-packages (from ipykernel->jupyter>=1.0->tutormagic) (0.2.0)\n",
            "Requirement already satisfied: ipython>=5.0.0 in /usr/local/lib/python3.10/dist-packages (from ipykernel->jupyter>=1.0->tutormagic) (7.34.0)\n",
            "Requirement already satisfied: traitlets>=4.1.0 in /usr/local/lib/python3.10/dist-packages (from ipykernel->jupyter>=1.0->tutormagic) (5.7.1)\n",
            "Requirement already satisfied: jupyter-client in /usr/local/lib/python3.10/dist-packages (from ipykernel->jupyter>=1.0->tutormagic) (6.1.12)\n",
            "Requirement already satisfied: tornado>=4.2 in /usr/local/lib/python3.10/dist-packages (from ipykernel->jupyter>=1.0->tutormagic) (6.3.1)\n",
            "Requirement already satisfied: widgetsnbextension~=3.6.0 in /usr/local/lib/python3.10/dist-packages (from ipywidgets->jupyter>=1.0->tutormagic) (3.6.5)\n",
            "Requirement already satisfied: jupyterlab-widgets>=1.0.0 in /usr/local/lib/python3.10/dist-packages (from ipywidgets->jupyter>=1.0->tutormagic) (3.0.8)\n",
            "Requirement already satisfied: prompt-toolkit!=3.0.0,!=3.0.1,<3.1.0,>=2.0.0 in /usr/local/lib/python3.10/dist-packages (from jupyter-console->jupyter>=1.0->tutormagic) (3.0.39)\n",
            "Requirement already satisfied: pygments in /usr/local/lib/python3.10/dist-packages (from jupyter-console->jupyter>=1.0->tutormagic) (2.16.1)\n",
            "Requirement already satisfied: lxml in /usr/local/lib/python3.10/dist-packages (from nbconvert->jupyter>=1.0->tutormagic) (4.9.3)\n",
            "Requirement already satisfied: beautifulsoup4 in /usr/local/lib/python3.10/dist-packages (from nbconvert->jupyter>=1.0->tutormagic) (4.11.2)\n",
            "Requirement already satisfied: bleach in /usr/local/lib/python3.10/dist-packages (from nbconvert->jupyter>=1.0->tutormagic) (6.0.0)\n",
            "Requirement already satisfied: defusedxml in /usr/local/lib/python3.10/dist-packages (from nbconvert->jupyter>=1.0->tutormagic) (0.7.1)\n",
            "Requirement already satisfied: entrypoints>=0.2.2 in /usr/local/lib/python3.10/dist-packages (from nbconvert->jupyter>=1.0->tutormagic) (0.4)\n",
            "Requirement already satisfied: jinja2>=3.0 in /usr/local/lib/python3.10/dist-packages (from nbconvert->jupyter>=1.0->tutormagic) (3.1.2)\n",
            "Requirement already satisfied: jupyter-core>=4.7 in /usr/local/lib/python3.10/dist-packages (from nbconvert->jupyter>=1.0->tutormagic) (5.3.1)\n",
            "Requirement already satisfied: jupyterlab-pygments in /usr/local/lib/python3.10/dist-packages (from nbconvert->jupyter>=1.0->tutormagic) (0.2.2)\n",
            "Requirement already satisfied: MarkupSafe>=2.0 in /usr/local/lib/python3.10/dist-packages (from nbconvert->jupyter>=1.0->tutormagic) (2.1.3)\n",
            "Requirement already satisfied: mistune<2,>=0.8.1 in /usr/local/lib/python3.10/dist-packages (from nbconvert->jupyter>=1.0->tutormagic) (0.8.4)\n",
            "Requirement already satisfied: nbclient>=0.5.0 in /usr/local/lib/python3.10/dist-packages (from nbconvert->jupyter>=1.0->tutormagic) (0.8.0)\n",
            "Requirement already satisfied: nbformat>=5.1 in /usr/local/lib/python3.10/dist-packages (from nbconvert->jupyter>=1.0->tutormagic) (5.9.2)\n",
            "Requirement already satisfied: packaging in /usr/local/lib/python3.10/dist-packages (from nbconvert->jupyter>=1.0->tutormagic) (23.1)\n",
            "Requirement already satisfied: pandocfilters>=1.4.1 in /usr/local/lib/python3.10/dist-packages (from nbconvert->jupyter>=1.0->tutormagic) (1.5.0)\n",
            "Requirement already satisfied: tinycss2 in /usr/local/lib/python3.10/dist-packages (from nbconvert->jupyter>=1.0->tutormagic) (1.2.1)\n",
            "Requirement already satisfied: pyzmq>=17 in /usr/local/lib/python3.10/dist-packages (from notebook->jupyter>=1.0->tutormagic) (23.2.1)\n",
            "Requirement already satisfied: argon2-cffi in /usr/local/lib/python3.10/dist-packages (from notebook->jupyter>=1.0->tutormagic) (21.3.0)\n",
            "Requirement already satisfied: nest-asyncio>=1.5 in /usr/local/lib/python3.10/dist-packages (from notebook->jupyter>=1.0->tutormagic) (1.5.7)\n",
            "Requirement already satisfied: Send2Trash>=1.8.0 in /usr/local/lib/python3.10/dist-packages (from notebook->jupyter>=1.0->tutormagic) (1.8.2)\n",
            "Requirement already satisfied: terminado>=0.8.3 in /usr/local/lib/python3.10/dist-packages (from notebook->jupyter>=1.0->tutormagic) (0.17.1)\n",
            "Requirement already satisfied: prometheus-client in /usr/local/lib/python3.10/dist-packages (from notebook->jupyter>=1.0->tutormagic) (0.17.1)\n",
            "Collecting qtpy>=2.0.1 (from qtconsole->jupyter>=1.0->tutormagic)\n",
            "  Downloading QtPy-2.3.1-py3-none-any.whl (84 kB)\n",
            "\u001b[2K     \u001b[90m━━━━━━━━━━━━━━━━━━━━━━━━━━━━━━━━━━━━━━━━\u001b[0m \u001b[32m84.9/84.9 kB\u001b[0m \u001b[31m7.9 MB/s\u001b[0m eta \u001b[36m0:00:00\u001b[0m\n",
            "\u001b[?25hRequirement already satisfied: setuptools>=18.5 in /usr/local/lib/python3.10/dist-packages (from ipython>=5.0.0->ipykernel->jupyter>=1.0->tutormagic) (67.7.2)\n",
            "Collecting jedi>=0.16 (from ipython>=5.0.0->ipykernel->jupyter>=1.0->tutormagic)\n",
            "  Downloading jedi-0.19.0-py2.py3-none-any.whl (1.6 MB)\n",
            "\u001b[2K     \u001b[90m━━━━━━━━━━━━━━━━━━━━━━━━━━━━━━━━━━━━━━━━\u001b[0m \u001b[32m1.6/1.6 MB\u001b[0m \u001b[31m39.4 MB/s\u001b[0m eta \u001b[36m0:00:00\u001b[0m\n",
            "\u001b[?25hRequirement already satisfied: decorator in /usr/local/lib/python3.10/dist-packages (from ipython>=5.0.0->ipykernel->jupyter>=1.0->tutormagic) (4.4.2)\n",
            "Requirement already satisfied: pickleshare in /usr/local/lib/python3.10/dist-packages (from ipython>=5.0.0->ipykernel->jupyter>=1.0->tutormagic) (0.7.5)\n",
            "Requirement already satisfied: backcall in /usr/local/lib/python3.10/dist-packages (from ipython>=5.0.0->ipykernel->jupyter>=1.0->tutormagic) (0.2.0)\n",
            "Requirement already satisfied: matplotlib-inline in /usr/local/lib/python3.10/dist-packages (from ipython>=5.0.0->ipykernel->jupyter>=1.0->tutormagic) (0.1.6)\n",
            "Requirement already satisfied: pexpect>4.3 in /usr/local/lib/python3.10/dist-packages (from ipython>=5.0.0->ipykernel->jupyter>=1.0->tutormagic) (4.8.0)\n",
            "Requirement already satisfied: python-dateutil>=2.1 in /usr/local/lib/python3.10/dist-packages (from jupyter-client->ipykernel->jupyter>=1.0->tutormagic) (2.8.2)\n",
            "Requirement already satisfied: platformdirs>=2.5 in /usr/local/lib/python3.10/dist-packages (from jupyter-core>=4.7->nbconvert->jupyter>=1.0->tutormagic) (3.10.0)\n",
            "Requirement already satisfied: fastjsonschema in /usr/local/lib/python3.10/dist-packages (from nbformat>=5.1->nbconvert->jupyter>=1.0->tutormagic) (2.18.0)\n",
            "Requirement already satisfied: jsonschema>=2.6 in /usr/local/lib/python3.10/dist-packages (from nbformat>=5.1->nbconvert->jupyter>=1.0->tutormagic) (4.19.0)\n",
            "Requirement already satisfied: wcwidth in /usr/local/lib/python3.10/dist-packages (from prompt-toolkit!=3.0.0,!=3.0.1,<3.1.0,>=2.0.0->jupyter-console->jupyter>=1.0->tutormagic) (0.2.6)\n",
            "Requirement already satisfied: ptyprocess in /usr/local/lib/python3.10/dist-packages (from terminado>=0.8.3->notebook->jupyter>=1.0->tutormagic) (0.7.0)\n",
            "Requirement already satisfied: argon2-cffi-bindings in /usr/local/lib/python3.10/dist-packages (from argon2-cffi->notebook->jupyter>=1.0->tutormagic) (21.2.0)\n",
            "Requirement already satisfied: soupsieve>1.2 in /usr/local/lib/python3.10/dist-packages (from beautifulsoup4->nbconvert->jupyter>=1.0->tutormagic) (2.4.1)\n",
            "Requirement already satisfied: six>=1.9.0 in /usr/local/lib/python3.10/dist-packages (from bleach->nbconvert->jupyter>=1.0->tutormagic) (1.16.0)\n",
            "Requirement already satisfied: webencodings in /usr/local/lib/python3.10/dist-packages (from bleach->nbconvert->jupyter>=1.0->tutormagic) (0.5.1)\n",
            "Requirement already satisfied: parso<0.9.0,>=0.8.3 in /usr/local/lib/python3.10/dist-packages (from jedi>=0.16->ipython>=5.0.0->ipykernel->jupyter>=1.0->tutormagic) (0.8.3)\n",
            "Requirement already satisfied: attrs>=22.2.0 in /usr/local/lib/python3.10/dist-packages (from jsonschema>=2.6->nbformat>=5.1->nbconvert->jupyter>=1.0->tutormagic) (23.1.0)\n",
            "Requirement already satisfied: jsonschema-specifications>=2023.03.6 in /usr/local/lib/python3.10/dist-packages (from jsonschema>=2.6->nbformat>=5.1->nbconvert->jupyter>=1.0->tutormagic) (2023.7.1)\n",
            "Requirement already satisfied: referencing>=0.28.4 in /usr/local/lib/python3.10/dist-packages (from jsonschema>=2.6->nbformat>=5.1->nbconvert->jupyter>=1.0->tutormagic) (0.30.2)\n",
            "Requirement already satisfied: rpds-py>=0.7.1 in /usr/local/lib/python3.10/dist-packages (from jsonschema>=2.6->nbformat>=5.1->nbconvert->jupyter>=1.0->tutormagic) (0.9.2)\n",
            "Requirement already satisfied: cffi>=1.0.1 in /usr/local/lib/python3.10/dist-packages (from argon2-cffi-bindings->argon2-cffi->notebook->jupyter>=1.0->tutormagic) (1.15.1)\n",
            "Requirement already satisfied: pycparser in /usr/local/lib/python3.10/dist-packages (from cffi>=1.0.1->argon2-cffi-bindings->argon2-cffi->notebook->jupyter>=1.0->tutormagic) (2.21)\n",
            "Installing collected packages: qtpy, jedi, qtconsole, jupyter, tutormagic\n",
            "Successfully installed jedi-0.19.0 jupyter-1.0.0 qtconsole-5.4.3 qtpy-2.3.1 tutormagic-0.3.1\n"
          ]
        }
      ],
      "source": [
        "!pip install tutormagic"
      ]
    },
    {
      "cell_type": "code",
      "source": [
        "%load_ext tutormagic"
      ],
      "metadata": {
        "id": "Cvsde1obNRX9"
      },
      "execution_count": 2,
      "outputs": []
    },
    {
      "cell_type": "markdown",
      "source": [
        "Investigación de operaciones - Semestre 2 - 2023\n",
        "\n",
        "Se debe ejecutar la primer linea de la siguiente celda de codigo para ver las funciones del tutor magic ejecutarse"
      ],
      "metadata": {
        "id": "4eVpXX8HK0VO"
      }
    },
    {
      "cell_type": "code",
      "source": [
        "%%tutor --lang python3 -s\n",
        "numero_1 = 9\n",
        "print(\"Mostrar el valor actual del numero_1\", numero_1)\n",
        "numero_2 = 5\n",
        "print(\"Mostrar el valor actual del numero_2\", numero_2)\n",
        "suma = numero_1 + numero_2\n",
        "div = suma / 4\n",
        "numero_1 = numero_1 - 2\n",
        "nuevo = numero_1 + (suma*3)\n",
        "final = nuevo * (5 + numero_1)"
      ],
      "metadata": {
        "id": "id_Dt4uSKrH3"
      },
      "execution_count": null,
      "outputs": []
    },
    {
      "cell_type": "markdown",
      "source": [
        "Creación de variables y operaciones con ellas:\n",
        "\n",
        "- Cantidad de decimales con \"%.xf\"%, siendo x el numero de decimales deseados."
      ],
      "metadata": {
        "id": "mKrtF4KYPwW4"
      }
    },
    {
      "cell_type": "code",
      "source": [
        "a = 10\n",
        "print (\"Sin ninguna modificacion de decimales\", a)\n",
        "print (\"Usando el comando\", \"%.1f\"% a)\n",
        "print (\"Usando de diferente forma el comando\", \"%.10f\"% a)\n",
        "b = 3\n",
        "div = a / b\n",
        "print (\"Dividiendo para practicar\", \"%.8f\"% div)"
      ],
      "metadata": {
        "id": "dqwozWowPEO1"
      },
      "execution_count": null,
      "outputs": []
    },
    {
      "cell_type": "markdown",
      "source": [
        "LA siguientes celdas son copiadas y pegadas para observar los resultados de los codigos del repositorio."
      ],
      "metadata": {
        "id": "Hkff4btSRl8V"
      }
    },
    {
      "cell_type": "code",
      "source": [
        "# la primera línea activa el tutor magic para el ejemplo específico\n",
        "%%tutor --lang python3 -s\n",
        "\n",
        "# compare y analice los siguientes resultados\n",
        "x = 4503599627370495.7\n",
        "y = 4503599627370496.7\n",
        "\n",
        "print(\"¿Es x un entero ? \", x.is_integer())\n",
        "\n",
        "print(\"¿Es y un entero ? \", y.is_integer())\n",
        "\n",
        "print(\"¿Cuánto es la diferencia entre x y y? \", y-x, \"\\n\")\n",
        "\n",
        "# observe la evolución de estos resultados\n",
        "for i in range (0,20):\n",
        "  h = (10**i) + 0.1\n",
        "  print(\"¿Es \", h, \"un entero? \", h.is_integer(), \"\\n\")"
      ],
      "metadata": {
        "id": "sD6SAeO3RlS9"
      },
      "execution_count": null,
      "outputs": []
    },
    {
      "cell_type": "code",
      "source": [
        "# la primera línea activa el tutor magic para el ejemplo específico\n",
        "%%tutor --lang python3 -s\n",
        "\n",
        "# programa para ingresar una información\n",
        "\n",
        "# creación de la variable créditos y asignación de un valor\n",
        "creditos = input (\"¿Cuantos creditos matriculaste este semestre?\")\n",
        "\n",
        "# mostrar en pantalla los créditos\n",
        "print (\"Matriculaste\", creditos, \"créditos este semestre.\")"
      ],
      "metadata": {
        "id": "7sgvjqn3SJ3C"
      },
      "execution_count": null,
      "outputs": []
    },
    {
      "cell_type": "code",
      "source": [
        "x = 15\n",
        "y = 4\n",
        "print (\"El resultado de la resta es\", x-y,\"\\n\")"
      ],
      "metadata": {
        "id": "1xnKFcpSS8oR"
      },
      "execution_count": null,
      "outputs": []
    },
    {
      "cell_type": "code",
      "source": [
        "lista = [1,2,3,4,5,6]\n",
        "lista2 = [9,8,7,6,5,4]\n",
        "print (lista[0::2], \"\\n\")\n",
        "print (lista, \"\\n\")\n",
        "print (lista+[9], \"\\n\")\n",
        "print (lista+lista2, \"\\n\")\n",
        "print ((lista+lista2)[0:5], \"\\n\")"
      ],
      "metadata": {
        "id": "BN1Mt5b3iazV"
      },
      "execution_count": null,
      "outputs": []
    },
    {
      "cell_type": "code",
      "source": [
        "# la primera línea activa el tutor magic para el ejemplo específico\n",
        "%%tutor --lang python3 -s\n",
        "\n",
        "# programa que crea un diccionario y muestra su contenido\n",
        "\n",
        "# creación del diccionario y asignación de contenido\n",
        "dic_nobel = {\"nombre\": \"Abdulzarak\", \"apellido\": \"Gurnah\", \"nacimiento\": 1948, \"nobel\": 2021}\n",
        "\n",
        "# mostrar en pantalla el contenido del diccionario\n",
        "print (\"El contenido del diccionario es: \", dic_nobel)\n",
        "\n",
        "# mostrar en pantalla el nombre del autor (se utiliza la clave \"nombre\")\n",
        "print (\"El nombre del autor es: \", dic_nobel[\"nombre\"])\n",
        "\n",
        "# mostrar en pantalla la fecha de nacimiento del estudiante (se encuentra la clave \"nacimiento\")\n",
        "print (\"La fecha de nacimiento del autor es: \", dic_nobel[\"nacimiento\"])\n",
        "\n",
        "# mostrar en pantalla la información completa del estudiante\n",
        "print (dic_nobel[\"nombre\"], dic_nobel[\"apellido\"], \"nació en \", dic_nobel[\"nacimiento\"], \"y recibió el premio nobel en \", dic_nobel[\"nobel\"])\n"
      ],
      "metadata": {
        "id": "A1ioZ-xFmODU"
      },
      "execution_count": null,
      "outputs": []
    },
    {
      "cell_type": "code",
      "source": [
        "variable = float(input(\"Ingrese un numero\"))\n",
        "valor_de_comparacion = float(input(\"Ingrese un numero para comparar\"))\n",
        "if variable < valor_de_comparacion:\n",
        "  print (variable, \"es menor que\", valor_de_comparacion)\n",
        "else:\n",
        "  print (\"%.0f\"% (variable-valor_de_comparacion))"
      ],
      "metadata": {
        "colab": {
          "base_uri": "https://localhost:8080/"
        },
        "id": "Kt9bXfSYmwwt",
        "outputId": "0ff43768-4fc0-4af1-efd3-bcd8f5eb3921"
      },
      "execution_count": null,
      "outputs": [
        {
          "output_type": "stream",
          "name": "stderr",
          "text": [
            "/usr/local/lib/python3.10/dist-packages/ipykernel/ipkernel.py:283: DeprecationWarning: `should_run_async` will not call `transform_cell` automatically in the future. Please pass the result to `transformed_cell` argument and any exception that happen during thetransform in `preprocessing_exc_tuple` in IPython 7.17 and above.\n",
            "  and should_run_async(code)\n"
          ]
        },
        {
          "output_type": "stream",
          "name": "stdout",
          "text": [
            "Ingrese un numero5\n",
            "Ingrese un numero para comparar5\n",
            "0\n"
          ]
        }
      ]
    },
    {
      "cell_type": "markdown",
      "source": [
        "Resumen de comandos:\n",
        "\n",
        "Para ejecutar e instalar tutor magic:\n",
        "- !pip install tutormagic\n",
        "- %load_ext tutormagic\n",
        "- %%tutor --lang python3 -s\n",
        "\n",
        "- print(\"aabbcc123\")\n",
        "- Cantidad de decimales numero \"%.xf\"%.\n",
        "- True / false para par / impar x.is_integer()\n",
        "- Rango for i in range (x,y):\n",
        "- a**b: a elevado a la potencia b\n",
        "- Introducir valor variable = input(\"aabbbcc123\") o input()\n",
        "- cadena de texto = string\n",
        "- \"\\n\" Deja un espacio entre el renglón de la impresión y el siguiente.\n",
        "- variable = input(\"Mensaje\") Comando para que el usuario ingrese información (Almancenado como un string).\n",
        "- En las listas ([]) la posición empieza contando desde cero.\n",
        "- Para extraer un valor de una lista nombre_lista[posición de la variable a extraer].\n",
        "- Las listas y sis valores se pueden extraer por pasos, todos de un tiron, un intervalo o solo un valor; [0::2],[0::], [a:d][x], respectivamente.\n",
        "- Diccionario dic = {\"nombre del valor\":\"valor\",\"nombre_valro_2\":\"valor2\"}"
      ],
      "metadata": {
        "id": "TqVcekXOSWVZ"
      }
    }
  ]
}