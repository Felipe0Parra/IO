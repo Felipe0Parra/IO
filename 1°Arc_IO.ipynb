{
  "nbformat": 4,
  "nbformat_minor": 0,
  "metadata": {
    "colab": {
      "provenance": [],
      "authorship_tag": "ABX9TyMFO+mqoxbaORPpTVbv+R5Z",
      "include_colab_link": true
    },
    "kernelspec": {
      "name": "python3",
      "display_name": "Python 3"
    },
    "language_info": {
      "name": "python"
    }
  },
  "cells": [
    {
      "cell_type": "markdown",
      "metadata": {
        "id": "view-in-github",
        "colab_type": "text"
      },
      "source": [
        "<a href=\"https://colab.research.google.com/github/Felipe0Parra/IO/blob/main/1%C2%B0Arc_IO.ipynb\" target=\"_parent\"><img src=\"https://colab.research.google.com/assets/colab-badge.svg\" alt=\"Open In Colab\"/></a>"
      ]
    },
    {
      "cell_type": "markdown",
      "source": [
        "Ejecutar siempre el tutor magic antes al abrir el cuaderno"
      ],
      "metadata": {
        "id": "IqjAs_CBMzcr"
      }
    },
    {
      "cell_type": "code",
      "execution_count": null,
      "metadata": {
        "colab": {
          "base_uri": "https://localhost:8080/"
        },
        "id": "YGDzY96HKkoF",
        "outputId": "8ce3ad95-b286-4b8f-e33c-f5696bfdcd20"
      },
      "outputs": [
        {
          "output_type": "stream",
          "name": "stdout",
          "text": [
            "Installing collected packages: qtpy, jedi, qtconsole, jupyter, tutormagic\n",
            "Successfully installed jedi-0.19.0 jupyter-1.0.0 qtconsole-5.4.3 qtpy-2.3.1 tutormagic-0.3.1\n"
          ]
        }
      ],
      "source": [
        "!pip install tutormagic"
      ]
    },
    {
      "cell_type": "code",
      "source": [
        "%load_ext tutormagic"
      ],
      "metadata": {
        "id": "Cvsde1obNRX9"
      },
      "execution_count": null,
      "outputs": []
    },
    {
      "cell_type": "markdown",
      "source": [
        "Investigación de operaciones - Semestre 2 - 2023\n",
        "\n",
        "Se debe ejecutar la primer linea de la siguiente celda de codigo para ver las funciones del tutor magic ejecutarse"
      ],
      "metadata": {
        "id": "4eVpXX8HK0VO"
      }
    },
    {
      "cell_type": "code",
      "source": [
        "%%tutor --lang python3 -s\n",
        "numero_1 = 9\n",
        "print(\"Mostrar el valor actual del numero_1\", numero_1)\n",
        "numero_2 = 5\n",
        "print(\"Mostrar el valor actual del numero_2\", numero_2)\n",
        "suma = numero_1 + numero_2\n",
        "div = suma / 4\n",
        "numero_1 = numero_1 - 2\n",
        "nuevo = numero_1 + (suma*3)\n",
        "final = nuevo * (5 + numero_1)"
      ],
      "metadata": {
        "id": "id_Dt4uSKrH3"
      },
      "execution_count": null,
      "outputs": []
    },
    {
      "cell_type": "markdown",
      "source": [
        "Creación de variables y operaciones con ellas:\n",
        "\n",
        "- Cantidad de decimales con \"%.xf\"%, siendo x el numero de decimales deseados."
      ],
      "metadata": {
        "id": "mKrtF4KYPwW4"
      }
    },
    {
      "cell_type": "code",
      "source": [
        "a = 10\n",
        "print (\"Sin ninguna modificacion de decimales\", a)\n",
        "print (\"Usando el comando\", \"%.1f\"% a)\n",
        "print (\"Usando de diferente forma el comando\", \"%.10f\"% a)\n",
        "b = 3\n",
        "div = a / b\n",
        "print (\"Dividiendo para practicar\", \"%.8f\"% div)"
      ],
      "metadata": {
        "id": "dqwozWowPEO1"
      },
      "execution_count": null,
      "outputs": []
    },
    {
      "cell_type": "markdown",
      "source": [
        "LA siguientes celdas son copiadas y pegadas para observar los resultados de los codigos del repositorio."
      ],
      "metadata": {
        "id": "Hkff4btSRl8V"
      }
    },
    {
      "cell_type": "code",
      "source": [
        "# la primera línea activa el tutor magic para el ejemplo específico\n",
        "%%tutor --lang python3 -s\n",
        "\n",
        "# compare y analice los siguientes resultados\n",
        "x = 4503599627370495.7\n",
        "y = 4503599627370496.7\n",
        "\n",
        "print(\"¿Es x un entero ? \", x.is_integer())\n",
        "\n",
        "print(\"¿Es y un entero ? \", y.is_integer())\n",
        "\n",
        "print(\"¿Cuánto es la diferencia entre x y y? \", y-x, \"\\n\")\n",
        "\n",
        "# observe la evolución de estos resultados\n",
        "for i in range (0,20):\n",
        "  h = (10**i) + 0.1\n",
        "  print(\"¿Es \", h, \"un entero? \", h.is_integer(), \"\\n\")"
      ],
      "metadata": {
        "id": "sD6SAeO3RlS9"
      },
      "execution_count": null,
      "outputs": []
    },
    {
      "cell_type": "code",
      "source": [
        "# la primera línea activa el tutor magic para el ejemplo específico\n",
        "%%tutor --lang python3 -s\n",
        "\n",
        "# programa para ingresar una información\n",
        "\n",
        "# creación de la variable créditos y asignación de un valor\n",
        "creditos = input (\"¿Cuantos creditos matriculaste este semestre?\")\n",
        "\n",
        "# mostrar en pantalla los créditos\n",
        "print (\"Matriculaste\", creditos, \"créditos este semestre.\")"
      ],
      "metadata": {
        "id": "7sgvjqn3SJ3C"
      },
      "execution_count": null,
      "outputs": []
    },
    {
      "cell_type": "markdown",
      "source": [
        "Resumen de comandos:\n",
        "\n",
        "Para ejecutar e instalar tutor magic:\n",
        "- !pip install tutormagic\n",
        "- %load_ext tutormagic\n",
        "- %%tutor --lang python3 -s\n",
        "\n",
        "- print(\"aabbcc123\")\n",
        "- Cantidad de decimales \"%.xf\"%\n",
        "- True / false para par / impar x.is_integer()\n",
        "- Rango for i in range (x,y):\n",
        "- a**b: a elevado a la potencia b\n",
        "- Introducir valor variable = input(\"aabbbcc123\") o input()\n",
        "- cadena de texto = string"
      ],
      "metadata": {
        "id": "TqVcekXOSWVZ"
      }
    },
    {
      "cell_type": "code",
      "source": [],
      "metadata": {
        "id": "1xnKFcpSS8oR"
      },
      "execution_count": null,
      "outputs": []
    }
  ]
}